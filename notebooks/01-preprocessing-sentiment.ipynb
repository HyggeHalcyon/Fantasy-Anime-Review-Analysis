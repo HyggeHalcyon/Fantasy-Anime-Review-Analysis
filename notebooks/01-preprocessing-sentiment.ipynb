{
 "cells": [
  {
   "metadata": {},
   "cell_type": "markdown",
   "source": "## Dependencies",
   "id": "ed06fa6465691d03"
  },
  {
   "metadata": {
    "ExecuteTime": {
     "end_time": "2025-05-07T02:42:03.149514Z",
     "start_time": "2025-05-07T02:42:02.484596Z"
    }
   },
   "cell_type": "code",
   "source": [
    "import nltk\n",
    "import os\n",
    "from concurrent.futures import ProcessPoolExecutor\n",
    "import multiprocessing\n",
    "import pandas as pd\n",
    "import re\n",
    "import contractions\n",
    "import spacy\n",
    "from spellchecker import SpellChecker\n",
    "pd.options.mode.chained_assignment = None\n",
    "\n",
    "nltk_data_path = \"../data/libs/nltk_data\"\n",
    "os.makedirs(nltk_data_path, exist_ok=True)\n",
    "nltk.data.path.append(nltk_data_path)\n",
    "nltk.download('wordnet', quiet=True)\n",
    "\n",
    "nlp = spacy.load('en_core_web_sm')"
   ],
   "id": "initial_id",
   "outputs": [],
   "execution_count": 54
  },
  {
   "metadata": {},
   "cell_type": "markdown",
   "source": "### Load dataset",
   "id": "26e7d57181cb0c97"
  },
  {
   "metadata": {
    "ExecuteTime": {
     "end_time": "2025-05-07T08:21:59.732505Z",
     "start_time": "2025-05-07T08:21:59.588542Z"
    }
   },
   "cell_type": "code",
   "source": [
    "df = pd.read_csv(r\"../data/raw/top_150_fantasy_reviews.csv\")\n",
    "df[\"review\"] = df[\"review\"].astype(str)\n",
    "df.head()"
   ],
   "id": "65fa129bbefa228f",
   "outputs": [
    {
     "data": {
      "text/plain": [
       "   review_id        anime_title  \\\n",
       "0     503754  Sousou no Frieren   \n",
       "1     519189  Sousou no Frieren   \n",
       "2     519472  Sousou no Frieren   \n",
       "3     512466  Sousou no Frieren   \n",
       "4     503760  Sousou no Frieren   \n",
       "\n",
       "                                      review_url                   date  \\\n",
       "0  https://myanimelist.net/reviews.php?id=503754   Oct 13, 2023 8:38 AM   \n",
       "1  https://myanimelist.net/reviews.php?id=519189  Mar 22, 2024 12:40 PM   \n",
       "2  https://myanimelist.net/reviews.php?id=519472   Mar 24, 2024 2:03 AM   \n",
       "3  https://myanimelist.net/reviews.php?id=512466  Jan 12, 2024 11:25 AM   \n",
       "4  https://myanimelist.net/reviews.php?id=503760   Oct 13, 2023 9:10 AM   \n",
       "\n",
       "       username  user_review_count  is_preliminary episodes_watched  \\\n",
       "0        Czekaj                  5            True             5/28   \n",
       "1       chekkit                 25           False              NaN   \n",
       "2      Trikkiez                  3           False              NaN   \n",
       "3    ShabbaRico                 12            True            18/28   \n",
       "4  TheRealist68                 16            True             6/28   \n",
       "\n",
       "    recommendation  rating                                             review  \\\n",
       "0      Recommended      10  With lives so short, why do we even bother? To...   \n",
       "1      Recommended      10  I feel so catered to.\\n\\r\\nIt feels like an et...   \n",
       "2  Not Recommended       4  Style-\\r\\nFrieren doesn't have its own unique ...   \n",
       "3  Not Recommended       5  TL;DR: 5/10, I don't recommend this for anyone...   \n",
       "4   Mixed Feelings       9  Through 3 episodes, Frieren appears to be a un...   \n",
       "\n",
       "   total_reactions  nice_count  love_it_count  funny_count  confusing_count  \\\n",
       "0             1347         281            833           44               58   \n",
       "1             1211         248            789           43               50   \n",
       "2             4219         630            105         1966             1355   \n",
       "3              931         183             28          400              267   \n",
       "4              953         412             60           31              314   \n",
       "\n",
       "   informative_count  well_written_count  creative_count  \n",
       "0                  5                 124               2  \n",
       "1                  8                  70               3  \n",
       "2                 29                 123              11  \n",
       "3                  9                  42               2  \n",
       "4                 10                 122               4  "
      ],
      "text/html": [
       "<div>\n",
       "<style scoped>\n",
       "    .dataframe tbody tr th:only-of-type {\n",
       "        vertical-align: middle;\n",
       "    }\n",
       "\n",
       "    .dataframe tbody tr th {\n",
       "        vertical-align: top;\n",
       "    }\n",
       "\n",
       "    .dataframe thead th {\n",
       "        text-align: right;\n",
       "    }\n",
       "</style>\n",
       "<table border=\"1\" class=\"dataframe\">\n",
       "  <thead>\n",
       "    <tr style=\"text-align: right;\">\n",
       "      <th></th>\n",
       "      <th>review_id</th>\n",
       "      <th>anime_title</th>\n",
       "      <th>review_url</th>\n",
       "      <th>date</th>\n",
       "      <th>username</th>\n",
       "      <th>user_review_count</th>\n",
       "      <th>is_preliminary</th>\n",
       "      <th>episodes_watched</th>\n",
       "      <th>recommendation</th>\n",
       "      <th>rating</th>\n",
       "      <th>review</th>\n",
       "      <th>total_reactions</th>\n",
       "      <th>nice_count</th>\n",
       "      <th>love_it_count</th>\n",
       "      <th>funny_count</th>\n",
       "      <th>confusing_count</th>\n",
       "      <th>informative_count</th>\n",
       "      <th>well_written_count</th>\n",
       "      <th>creative_count</th>\n",
       "    </tr>\n",
       "  </thead>\n",
       "  <tbody>\n",
       "    <tr>\n",
       "      <th>0</th>\n",
       "      <td>503754</td>\n",
       "      <td>Sousou no Frieren</td>\n",
       "      <td>https://myanimelist.net/reviews.php?id=503754</td>\n",
       "      <td>Oct 13, 2023 8:38 AM</td>\n",
       "      <td>Czekaj</td>\n",
       "      <td>5</td>\n",
       "      <td>True</td>\n",
       "      <td>5/28</td>\n",
       "      <td>Recommended</td>\n",
       "      <td>10</td>\n",
       "      <td>With lives so short, why do we even bother? To...</td>\n",
       "      <td>1347</td>\n",
       "      <td>281</td>\n",
       "      <td>833</td>\n",
       "      <td>44</td>\n",
       "      <td>58</td>\n",
       "      <td>5</td>\n",
       "      <td>124</td>\n",
       "      <td>2</td>\n",
       "    </tr>\n",
       "    <tr>\n",
       "      <th>1</th>\n",
       "      <td>519189</td>\n",
       "      <td>Sousou no Frieren</td>\n",
       "      <td>https://myanimelist.net/reviews.php?id=519189</td>\n",
       "      <td>Mar 22, 2024 12:40 PM</td>\n",
       "      <td>chekkit</td>\n",
       "      <td>25</td>\n",
       "      <td>False</td>\n",
       "      <td>NaN</td>\n",
       "      <td>Recommended</td>\n",
       "      <td>10</td>\n",
       "      <td>I feel so catered to.\\n\\r\\nIt feels like an et...</td>\n",
       "      <td>1211</td>\n",
       "      <td>248</td>\n",
       "      <td>789</td>\n",
       "      <td>43</td>\n",
       "      <td>50</td>\n",
       "      <td>8</td>\n",
       "      <td>70</td>\n",
       "      <td>3</td>\n",
       "    </tr>\n",
       "    <tr>\n",
       "      <th>2</th>\n",
       "      <td>519472</td>\n",
       "      <td>Sousou no Frieren</td>\n",
       "      <td>https://myanimelist.net/reviews.php?id=519472</td>\n",
       "      <td>Mar 24, 2024 2:03 AM</td>\n",
       "      <td>Trikkiez</td>\n",
       "      <td>3</td>\n",
       "      <td>False</td>\n",
       "      <td>NaN</td>\n",
       "      <td>Not Recommended</td>\n",
       "      <td>4</td>\n",
       "      <td>Style-\\r\\nFrieren doesn't have its own unique ...</td>\n",
       "      <td>4219</td>\n",
       "      <td>630</td>\n",
       "      <td>105</td>\n",
       "      <td>1966</td>\n",
       "      <td>1355</td>\n",
       "      <td>29</td>\n",
       "      <td>123</td>\n",
       "      <td>11</td>\n",
       "    </tr>\n",
       "    <tr>\n",
       "      <th>3</th>\n",
       "      <td>512466</td>\n",
       "      <td>Sousou no Frieren</td>\n",
       "      <td>https://myanimelist.net/reviews.php?id=512466</td>\n",
       "      <td>Jan 12, 2024 11:25 AM</td>\n",
       "      <td>ShabbaRico</td>\n",
       "      <td>12</td>\n",
       "      <td>True</td>\n",
       "      <td>18/28</td>\n",
       "      <td>Not Recommended</td>\n",
       "      <td>5</td>\n",
       "      <td>TL;DR: 5/10, I don't recommend this for anyone...</td>\n",
       "      <td>931</td>\n",
       "      <td>183</td>\n",
       "      <td>28</td>\n",
       "      <td>400</td>\n",
       "      <td>267</td>\n",
       "      <td>9</td>\n",
       "      <td>42</td>\n",
       "      <td>2</td>\n",
       "    </tr>\n",
       "    <tr>\n",
       "      <th>4</th>\n",
       "      <td>503760</td>\n",
       "      <td>Sousou no Frieren</td>\n",
       "      <td>https://myanimelist.net/reviews.php?id=503760</td>\n",
       "      <td>Oct 13, 2023 9:10 AM</td>\n",
       "      <td>TheRealist68</td>\n",
       "      <td>16</td>\n",
       "      <td>True</td>\n",
       "      <td>6/28</td>\n",
       "      <td>Mixed Feelings</td>\n",
       "      <td>9</td>\n",
       "      <td>Through 3 episodes, Frieren appears to be a un...</td>\n",
       "      <td>953</td>\n",
       "      <td>412</td>\n",
       "      <td>60</td>\n",
       "      <td>31</td>\n",
       "      <td>314</td>\n",
       "      <td>10</td>\n",
       "      <td>122</td>\n",
       "      <td>4</td>\n",
       "    </tr>\n",
       "  </tbody>\n",
       "</table>\n",
       "</div>"
      ]
     },
     "execution_count": 62,
     "metadata": {},
     "output_type": "execute_result"
    }
   ],
   "execution_count": 62
  },
  {
   "metadata": {
    "ExecuteTime": {
     "end_time": "2025-05-07T08:22:01.508644Z",
     "start_time": "2025-05-07T08:22:01.505379Z"
    }
   },
   "cell_type": "code",
   "source": "print(f\"Dataset length: {len(df)}\")",
   "id": "d836bdf08cd4de47",
   "outputs": [
    {
     "name": "stdout",
     "output_type": "stream",
     "text": [
      "Dataset length: 2404\n"
     ]
    }
   ],
   "execution_count": 63
  },
  {
   "metadata": {},
   "cell_type": "markdown",
   "source": "#### Remove NA/Duplicate Reviews",
   "id": "2558d28a8b581420"
  },
  {
   "metadata": {
    "ExecuteTime": {
     "end_time": "2025-05-07T08:22:03.896617Z",
     "start_time": "2025-05-07T08:22:03.887816Z"
    }
   },
   "cell_type": "code",
   "source": [
    "# Drop missing content\n",
    "df = df.dropna(subset=[\"review\"])\n",
    "print(f\"After dropping missing review: {len(df)}\")\n",
    "\n",
    "# Drop duplicates based on review\n",
    "df = df.drop_duplicates(subset=[\"review\"])\n",
    "print(f\"After dropping duplicates: {len(df)}\")\n",
    "\n",
    "# Keep only rows where 'review' is an actual string\n",
    "df = df[df[\"review\"].apply(lambda x: isinstance(x, str))]\n",
    "print(f\"After keeping only string-type reviews: {len(df)}\")"
   ],
   "id": "432b4d6e0a1a64f0",
   "outputs": [
    {
     "name": "stdout",
     "output_type": "stream",
     "text": [
      "After dropping missing review: 2403\n",
      "After dropping duplicates: 2403\n",
      "After keeping only string-type reviews: 2403\n"
     ]
    }
   ],
   "execution_count": 65
  },
  {
   "metadata": {},
   "cell_type": "markdown",
   "source": "### A. Sentiment Preprocessing",
   "id": "943695cefb82a55c"
  },
  {
   "metadata": {
    "ExecuteTime": {
     "end_time": "2025-05-07T08:22:04.499826Z",
     "start_time": "2025-05-07T08:22:04.495439Z"
    }
   },
   "cell_type": "code",
   "source": [
    "# Copy review col to review_sentiment\n",
    "df[\"review_sentiment\"] = df[\"review\"].copy()"
   ],
   "id": "a4b51a42252c5334",
   "outputs": [],
   "execution_count": 66
  },
  {
   "metadata": {},
   "cell_type": "markdown",
   "source": "#### Remove Escape Characters and Normalize Whitespace",
   "id": "5dfd1487a7dae29a"
  },
  {
   "metadata": {
    "ExecuteTime": {
     "end_time": "2025-05-07T08:22:05.490805Z",
     "start_time": "2025-05-07T08:22:05.131124Z"
    }
   },
   "cell_type": "code",
   "source": [
    "# Remove \\n, \\r, \\t\n",
    "# Collapse multiple spaces\n",
    "def remove_escape_chars_and_normalize_whitespaces(text):\n",
    "    text = re.sub(r'\\\\[nrt]+', ' ', text)\n",
    "    text = re.sub(r'\\s+', ' ', text).strip()\n",
    "    return text\n",
    "\n",
    "df[\"review_sentiment\"] = df[\"review_sentiment\"].apply(remove_escape_chars_and_normalize_whitespaces)\n",
    "df[\"review_sentiment\"].head()"
   ],
   "id": "5a5e282798637f09",
   "outputs": [
    {
     "data": {
      "text/plain": [
       "0    With lives so short, why do we even bother? To...\n",
       "1    I feel so catered to. It feels like an eternit...\n",
       "2    Style- Frieren doesn't have its own unique sty...\n",
       "3    TL;DR: 5/10, I don't recommend this for anyone...\n",
       "4    Through 3 episodes, Frieren appears to be a un...\n",
       "Name: review_sentiment, dtype: object"
      ]
     },
     "execution_count": 67,
     "metadata": {},
     "output_type": "execute_result"
    }
   ],
   "execution_count": 67
  },
  {
   "metadata": {},
   "cell_type": "markdown",
   "source": "#### Expand contractions",
   "id": "b4c4b91fa8a55aa0"
  },
  {
   "metadata": {
    "ExecuteTime": {
     "end_time": "2025-05-07T08:22:07.186941Z",
     "start_time": "2025-05-07T08:22:06.749847Z"
    }
   },
   "cell_type": "code",
   "source": [
    "# \"can't\" → \"cannot\", \"I’m\" → \"I am\"\n",
    "def expand_contractions(text):\n",
    "    try:\n",
    "        return contractions.fix(text)\n",
    "    except Exception:\n",
    "        return text\n",
    "\n",
    "df[\"review_sentiment\"] = df[\"review_sentiment\"].apply(expand_contractions)\n",
    "df[\"review_sentiment\"].head()"
   ],
   "id": "22ae4a5d3804dc35",
   "outputs": [
    {
     "data": {
      "text/plain": [
       "0    With lives so short, why do we even bother? To...\n",
       "1    I feel so catered to. It feels like an eternit...\n",
       "2    Style- Frieren does not have its own unique st...\n",
       "3    TL;DR: 5/10, I do not recommend this for anyon...\n",
       "4    Through 3 episodes, Frieren appears to be a un...\n",
       "Name: review_sentiment, dtype: object"
      ]
     },
     "execution_count": 68,
     "metadata": {},
     "output_type": "execute_result"
    }
   ],
   "execution_count": 68
  },
  {
   "metadata": {},
   "cell_type": "markdown",
   "source": "#### Remove URLs, mentions, symbols",
   "id": "ffeb52738e3fde2e"
  },
  {
   "metadata": {
    "ExecuteTime": {
     "end_time": "2025-05-07T08:22:07.484787Z",
     "start_time": "2025-05-07T08:22:07.238995Z"
    }
   },
   "cell_type": "code",
   "source": [
    "# Clean web-specific junk: @username, URLs, repeated punctuation\n",
    "def remove_urls_mentions_symbols(text):\n",
    "    text = re.sub(r\"http\\S+|www.\\S+\", \"\", text)\n",
    "    text = re.sub(r\"@\\w+\", \"\", text)\n",
    "    text = re.sub(r\"[^\\w\\s.,!?]\", \"\", text) # Remove non-standard characters (but keep . , ! ? for VADER)\n",
    "    return text\n",
    "\n",
    "df[\"review_sentiment\"] = df[\"review_sentiment\"].apply(remove_urls_mentions_symbols)\n",
    "df[\"review_sentiment\"].head()"
   ],
   "id": "a6f8198d9023f3eb",
   "outputs": [
    {
     "data": {
      "text/plain": [
       "0    With lives so short, why do we even bother? To...\n",
       "1    I feel so catered to. It feels like an eternit...\n",
       "2    Style Frieren does not have its own unique sty...\n",
       "3    TLDR 510, I do not recommend this for anyone t...\n",
       "4    Through 3 episodes, Frieren appears to be a un...\n",
       "Name: review_sentiment, dtype: object"
      ]
     },
     "execution_count": 69,
     "metadata": {},
     "output_type": "execute_result"
    }
   ],
   "execution_count": 69
  },
  {
   "metadata": {},
   "cell_type": "markdown",
   "source": "#### Lowercase text",
   "id": "edfd2b1219b87a43"
  },
  {
   "metadata": {
    "ExecuteTime": {
     "end_time": "2025-05-07T08:22:09.528521Z",
     "start_time": "2025-05-07T08:22:09.507265Z"
    }
   },
   "cell_type": "code",
   "source": [
    "def lowercase_text(text):\n",
    "    text = text.lower()\n",
    "    return text\n",
    "\n",
    "df[\"review_sentiment\"] = df[\"review_sentiment\"].apply(lowercase_text)\n",
    "df[\"review_sentiment\"].head()"
   ],
   "id": "7bcedd7b54b64520",
   "outputs": [
    {
     "data": {
      "text/plain": [
       "0    with lives so short, why do we even bother? to...\n",
       "1    i feel so catered to. it feels like an eternit...\n",
       "2    style frieren does not have its own unique sty...\n",
       "3    tldr 510, i do not recommend this for anyone t...\n",
       "4    through 3 episodes, frieren appears to be a un...\n",
       "Name: review_sentiment, dtype: object"
      ]
     },
     "execution_count": 70,
     "metadata": {},
     "output_type": "execute_result"
    }
   ],
   "execution_count": 70
  },
  {
   "metadata": {},
   "cell_type": "markdown",
   "source": "#### Correct Spellings",
   "id": "6b29336a42f4a249"
  },
  {
   "metadata": {
    "ExecuteTime": {
     "end_time": "2025-05-07T09:11:12.630526Z",
     "start_time": "2025-05-07T08:23:38.230860Z"
    }
   },
   "cell_type": "code",
   "source": [
    "# Function must be defined at top level for multiprocessing to work\n",
    "def correct_text(text):\n",
    "    spell = SpellChecker()\n",
    "    correction_cache = {}\n",
    "    try:\n",
    "        words = text.split()\n",
    "        corrected = []\n",
    "        for word in words:\n",
    "            if word.lower() in correction_cache:\n",
    "                corrected_word = correction_cache[word.lower()]\n",
    "            else:\n",
    "                corrected_word = spell.correction(word) or word\n",
    "                correction_cache[word.lower()] = corrected_word\n",
    "            corrected.append(corrected_word)\n",
    "        return \" \".join(corrected)\n",
    "    except Exception:\n",
    "        return text\n",
    "\n",
    "# Use all CPU cores\n",
    "num_workers = int(multiprocessing.cpu_count() / 2)\n",
    "\n",
    "# Apply spellcheck in parallel\n",
    "with ProcessPoolExecutor(max_workers=num_workers) as executor:\n",
    "    results = list(executor.map(correct_text, df[\"review_sentiment\"].tolist()))\n",
    "\n",
    "# Assign corrected text back to DataFrame\n",
    "df[\"review_sentiment\"] = results"
   ],
   "id": "b52364b357edf0e5",
   "outputs": [],
   "execution_count": 73
  },
  {
   "metadata": {
    "ExecuteTime": {
     "end_time": "2025-05-07T09:11:13.070796Z",
     "start_time": "2025-05-07T09:11:12.748932Z"
    }
   },
   "cell_type": "code",
   "source": "df.to_csv(r'../data/processed/top_150_fantasy_reviews_cleaned.csv', index=False)",
   "id": "cb91f4e63075af8c",
   "outputs": [],
   "execution_count": 74
  },
  {
   "metadata": {
    "ExecuteTime": {
     "end_time": "2025-05-07T09:11:29.006492Z",
     "start_time": "2025-05-07T09:11:29.000930Z"
    }
   },
   "cell_type": "code",
   "source": "df[\"review_sentiment\"]",
   "id": "b41380681b0953ea",
   "outputs": [
    {
     "data": {
      "text/plain": [
       "0       with lives so short why do we even bother to s...\n",
       "1       i feel so catered to it feels like an eternity...\n",
       "2       style firemen does not have its own unique sty...\n",
       "3       told 510, i do not recommend this for anyone t...\n",
       "4       through 3 episodes firemen appears to be a uni...\n",
       "                              ...                        \n",
       "2399    magi is certainly not the best shone anime eve...\n",
       "2400    i just finished this anime and i am breathless...\n",
       "2401    when i think magic i think action and comedy p...\n",
       "2402    initial review for newcomers magi the labyrint...\n",
       "2403    only saw the first season of magic which is th...\n",
       "Name: review_sentiment, Length: 2403, dtype: object"
      ]
     },
     "execution_count": 75,
     "metadata": {},
     "output_type": "execute_result"
    }
   ],
   "execution_count": 75
  }
 ],
 "metadata": {
  "kernelspec": {
   "display_name": "Python 3",
   "language": "python",
   "name": "python3"
  },
  "language_info": {
   "codemirror_mode": {
    "name": "ipython",
    "version": 2
   },
   "file_extension": ".py",
   "mimetype": "text/x-python",
   "name": "python",
   "nbconvert_exporter": "python",
   "pygments_lexer": "ipython2",
   "version": "2.7.6"
  }
 },
 "nbformat": 4,
 "nbformat_minor": 5
}
