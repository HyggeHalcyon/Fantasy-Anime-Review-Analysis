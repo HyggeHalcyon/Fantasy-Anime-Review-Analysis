{
 "cells": [
  {
   "cell_type": "code",
   "id": "initial_id",
   "metadata": {
    "collapsed": true,
    "ExecuteTime": {
     "end_time": "2025-05-07T17:22:04.304426Z",
     "start_time": "2025-05-07T17:22:03.431649Z"
    }
   },
   "source": [
    "import spacy\n",
    "import pandas as pd\n",
    "from collections import Counter\n",
    "\n",
    "nlp = spacy.load(\"en_core_web_sm\")\n",
    "nlp.max_length = 10_000_000"
   ],
   "outputs": [],
   "execution_count": 22
  },
  {
   "metadata": {
    "ExecuteTime": {
     "end_time": "2025-05-07T16:50:48.994273Z",
     "start_time": "2025-05-07T16:50:48.598791Z"
    }
   },
   "cell_type": "code",
   "source": [
    "df = pd.read_csv(r\"../data/processed/top_150_fantasy_reviews_sentiment.csv\")\n",
    "df.head()"
   ],
   "id": "1c13aa3f9810c475",
   "outputs": [
    {
     "data": {
      "text/plain": [
       "   review_id        anime_title  \\\n",
       "0     503754  Sousou no Frieren   \n",
       "1     519189  Sousou no Frieren   \n",
       "2     519472  Sousou no Frieren   \n",
       "3     512466  Sousou no Frieren   \n",
       "4     503760  Sousou no Frieren   \n",
       "\n",
       "                                      review_url                   date  \\\n",
       "0  https://myanimelist.net/reviews.php?id=503754   Oct 13, 2023 8:38 AM   \n",
       "1  https://myanimelist.net/reviews.php?id=519189  Mar 22, 2024 12:40 PM   \n",
       "2  https://myanimelist.net/reviews.php?id=519472   Mar 24, 2024 2:03 AM   \n",
       "3  https://myanimelist.net/reviews.php?id=512466  Jan 12, 2024 11:25 AM   \n",
       "4  https://myanimelist.net/reviews.php?id=503760   Oct 13, 2023 9:10 AM   \n",
       "\n",
       "       username  user_review_count  is_preliminary episodes_watched  \\\n",
       "0        Czekaj                  5            True             5/28   \n",
       "1       chekkit                 25           False              NaN   \n",
       "2      Trikkiez                  3           False              NaN   \n",
       "3    ShabbaRico                 12            True            18/28   \n",
       "4  TheRealist68                 16            True             6/28   \n",
       "\n",
       "    recommendation  rating  ...  \\\n",
       "0      Recommended      10  ...   \n",
       "1      Recommended      10  ...   \n",
       "2  Not Recommended       4  ...   \n",
       "3  Not Recommended       5  ...   \n",
       "4   Mixed Feelings       9  ...   \n",
       "\n",
       "                                    review_sentiment  \\\n",
       "0  with lives so short why do we even bother? to ...   \n",
       "1  i feel so catered to it feels like an eternity...   \n",
       "2  style frieren does not have its own unique sty...   \n",
       "3  tl dr 5 10 i do not recommend this for anyone ...   \n",
       "4  through 3 episodes frieren appears to be a uni...   \n",
       "\n",
       "                                       review_nerpos  textblob_polarity  \\\n",
       "0  With lives so short, why do we even bother? To...           0.087698   \n",
       "1  I feel so catered to. It feels like an eternit...           0.188848   \n",
       "2  Style- Frieren does not have its own unique st...          -0.000063   \n",
       "3  TL;DR: 5/10, I do not recommend this for anyon...           0.074623   \n",
       "4  Through 3 episodes, Frieren appears to be a un...           0.136992   \n",
       "\n",
       "   textblob_subjectivity  textblob_label  vader_neg  vader_neu  vader_pos  \\\n",
       "0               0.506092         neutral      0.068      0.853      0.079   \n",
       "1               0.523496        positive      0.051      0.757      0.192   \n",
       "2               0.544437         neutral      0.096      0.782      0.122   \n",
       "3               0.449968         neutral      0.062      0.823      0.115   \n",
       "4               0.483176        positive      0.036      0.818      0.146   \n",
       "\n",
       "   vader_compound vader_label  \n",
       "0          0.8890    positive  \n",
       "1          0.9987    positive  \n",
       "2          0.9958    positive  \n",
       "3          0.9991    positive  \n",
       "4          0.9981    positive  \n",
       "\n",
       "[5 rows x 30 columns]"
      ],
      "text/html": [
       "<div>\n",
       "<style scoped>\n",
       "    .dataframe tbody tr th:only-of-type {\n",
       "        vertical-align: middle;\n",
       "    }\n",
       "\n",
       "    .dataframe tbody tr th {\n",
       "        vertical-align: top;\n",
       "    }\n",
       "\n",
       "    .dataframe thead th {\n",
       "        text-align: right;\n",
       "    }\n",
       "</style>\n",
       "<table border=\"1\" class=\"dataframe\">\n",
       "  <thead>\n",
       "    <tr style=\"text-align: right;\">\n",
       "      <th></th>\n",
       "      <th>review_id</th>\n",
       "      <th>anime_title</th>\n",
       "      <th>review_url</th>\n",
       "      <th>date</th>\n",
       "      <th>username</th>\n",
       "      <th>user_review_count</th>\n",
       "      <th>is_preliminary</th>\n",
       "      <th>episodes_watched</th>\n",
       "      <th>recommendation</th>\n",
       "      <th>rating</th>\n",
       "      <th>...</th>\n",
       "      <th>review_sentiment</th>\n",
       "      <th>review_nerpos</th>\n",
       "      <th>textblob_polarity</th>\n",
       "      <th>textblob_subjectivity</th>\n",
       "      <th>textblob_label</th>\n",
       "      <th>vader_neg</th>\n",
       "      <th>vader_neu</th>\n",
       "      <th>vader_pos</th>\n",
       "      <th>vader_compound</th>\n",
       "      <th>vader_label</th>\n",
       "    </tr>\n",
       "  </thead>\n",
       "  <tbody>\n",
       "    <tr>\n",
       "      <th>0</th>\n",
       "      <td>503754</td>\n",
       "      <td>Sousou no Frieren</td>\n",
       "      <td>https://myanimelist.net/reviews.php?id=503754</td>\n",
       "      <td>Oct 13, 2023 8:38 AM</td>\n",
       "      <td>Czekaj</td>\n",
       "      <td>5</td>\n",
       "      <td>True</td>\n",
       "      <td>5/28</td>\n",
       "      <td>Recommended</td>\n",
       "      <td>10</td>\n",
       "      <td>...</td>\n",
       "      <td>with lives so short why do we even bother? to ...</td>\n",
       "      <td>With lives so short, why do we even bother? To...</td>\n",
       "      <td>0.087698</td>\n",
       "      <td>0.506092</td>\n",
       "      <td>neutral</td>\n",
       "      <td>0.068</td>\n",
       "      <td>0.853</td>\n",
       "      <td>0.079</td>\n",
       "      <td>0.8890</td>\n",
       "      <td>positive</td>\n",
       "    </tr>\n",
       "    <tr>\n",
       "      <th>1</th>\n",
       "      <td>519189</td>\n",
       "      <td>Sousou no Frieren</td>\n",
       "      <td>https://myanimelist.net/reviews.php?id=519189</td>\n",
       "      <td>Mar 22, 2024 12:40 PM</td>\n",
       "      <td>chekkit</td>\n",
       "      <td>25</td>\n",
       "      <td>False</td>\n",
       "      <td>NaN</td>\n",
       "      <td>Recommended</td>\n",
       "      <td>10</td>\n",
       "      <td>...</td>\n",
       "      <td>i feel so catered to it feels like an eternity...</td>\n",
       "      <td>I feel so catered to. It feels like an eternit...</td>\n",
       "      <td>0.188848</td>\n",
       "      <td>0.523496</td>\n",
       "      <td>positive</td>\n",
       "      <td>0.051</td>\n",
       "      <td>0.757</td>\n",
       "      <td>0.192</td>\n",
       "      <td>0.9987</td>\n",
       "      <td>positive</td>\n",
       "    </tr>\n",
       "    <tr>\n",
       "      <th>2</th>\n",
       "      <td>519472</td>\n",
       "      <td>Sousou no Frieren</td>\n",
       "      <td>https://myanimelist.net/reviews.php?id=519472</td>\n",
       "      <td>Mar 24, 2024 2:03 AM</td>\n",
       "      <td>Trikkiez</td>\n",
       "      <td>3</td>\n",
       "      <td>False</td>\n",
       "      <td>NaN</td>\n",
       "      <td>Not Recommended</td>\n",
       "      <td>4</td>\n",
       "      <td>...</td>\n",
       "      <td>style frieren does not have its own unique sty...</td>\n",
       "      <td>Style- Frieren does not have its own unique st...</td>\n",
       "      <td>-0.000063</td>\n",
       "      <td>0.544437</td>\n",
       "      <td>neutral</td>\n",
       "      <td>0.096</td>\n",
       "      <td>0.782</td>\n",
       "      <td>0.122</td>\n",
       "      <td>0.9958</td>\n",
       "      <td>positive</td>\n",
       "    </tr>\n",
       "    <tr>\n",
       "      <th>3</th>\n",
       "      <td>512466</td>\n",
       "      <td>Sousou no Frieren</td>\n",
       "      <td>https://myanimelist.net/reviews.php?id=512466</td>\n",
       "      <td>Jan 12, 2024 11:25 AM</td>\n",
       "      <td>ShabbaRico</td>\n",
       "      <td>12</td>\n",
       "      <td>True</td>\n",
       "      <td>18/28</td>\n",
       "      <td>Not Recommended</td>\n",
       "      <td>5</td>\n",
       "      <td>...</td>\n",
       "      <td>tl dr 5 10 i do not recommend this for anyone ...</td>\n",
       "      <td>TL;DR: 5/10, I do not recommend this for anyon...</td>\n",
       "      <td>0.074623</td>\n",
       "      <td>0.449968</td>\n",
       "      <td>neutral</td>\n",
       "      <td>0.062</td>\n",
       "      <td>0.823</td>\n",
       "      <td>0.115</td>\n",
       "      <td>0.9991</td>\n",
       "      <td>positive</td>\n",
       "    </tr>\n",
       "    <tr>\n",
       "      <th>4</th>\n",
       "      <td>503760</td>\n",
       "      <td>Sousou no Frieren</td>\n",
       "      <td>https://myanimelist.net/reviews.php?id=503760</td>\n",
       "      <td>Oct 13, 2023 9:10 AM</td>\n",
       "      <td>TheRealist68</td>\n",
       "      <td>16</td>\n",
       "      <td>True</td>\n",
       "      <td>6/28</td>\n",
       "      <td>Mixed Feelings</td>\n",
       "      <td>9</td>\n",
       "      <td>...</td>\n",
       "      <td>through 3 episodes frieren appears to be a uni...</td>\n",
       "      <td>Through 3 episodes, Frieren appears to be a un...</td>\n",
       "      <td>0.136992</td>\n",
       "      <td>0.483176</td>\n",
       "      <td>positive</td>\n",
       "      <td>0.036</td>\n",
       "      <td>0.818</td>\n",
       "      <td>0.146</td>\n",
       "      <td>0.9981</td>\n",
       "      <td>positive</td>\n",
       "    </tr>\n",
       "  </tbody>\n",
       "</table>\n",
       "<p>5 rows × 30 columns</p>\n",
       "</div>"
      ]
     },
     "execution_count": 3,
     "metadata": {},
     "output_type": "execute_result"
    }
   ],
   "execution_count": 3
  },
  {
   "metadata": {
    "ExecuteTime": {
     "end_time": "2025-05-07T17:24:44.271511Z",
     "start_time": "2025-05-07T17:22:05.570317Z"
    }
   },
   "cell_type": "code",
   "source": [
    "# Combine all reviews into one string\n",
    "all_text = \" \".join(df[\"review_nerpos\"].dropna().astype(str).tolist())\n",
    "\n",
    "# Process the large text\n",
    "doc = nlp(all_text)\n",
    "\n",
    "# POS counts\n",
    "pos_counts = Counter([token.pos_ for token in doc])\n",
    "print(\"POS Tag Counts:\\n\", pos_counts)\n",
    "\n",
    "# NER counts\n",
    "ner_counts = Counter([ent.label_ for ent in doc.ents])\n",
    "print(\"NER Label Counts:\\n\", ner_counts)"
   ],
   "id": "7001c49b72ee456c",
   "outputs": [
    {
     "name": "stderr",
     "output_type": "stream",
     "text": [
      "\n",
      "KeyboardInterrupt\n",
      "\n"
     ]
    }
   ],
   "execution_count": 23
  },
  {
   "metadata": {
    "ExecuteTime": {
     "end_time": "2025-05-07T17:18:34.355699Z",
     "start_time": "2025-05-07T17:18:34.235544Z"
    }
   },
   "cell_type": "code",
   "source": [
    "text = df.loc[0, \"review_nerpos\"]  # This should be the version with casing and punctuation preserved\n",
    "doc = nlp(text)\n",
    "pos_counts = Counter([token.pos_ for token in doc])\n",
    "print(pos_counts)\n"
   ],
   "id": "e211a0985d3ec1f5",
   "outputs": [
    {
     "name": "stdout",
     "output_type": "stream",
     "text": [
      "Counter({'NOUN': 112, 'VERB': 88, 'PUNCT': 82, 'PRON': 81, 'ADP': 65, 'DET': 55, 'ADJ': 46, 'AUX': 41, 'ADV': 36, 'PART': 34, 'SCONJ': 21, 'CCONJ': 19, 'PROPN': 9, 'NUM': 5})\n"
     ]
    }
   ],
   "execution_count": 13
  },
  {
   "metadata": {
    "ExecuteTime": {
     "end_time": "2025-05-07T17:15:39.650517Z",
     "start_time": "2025-05-07T17:15:39.646096Z"
    }
   },
   "cell_type": "code",
   "source": [
    "for token in doc[:20]:  # First 20 tokens\n",
    "    print(f\"{token.text:15} | POS: {token.pos_:7} | Tag: {token.tag_:5} | Lemma: {token.lemma_}\")\n"
   ],
   "id": "4fb100479c0a4723",
   "outputs": [
    {
     "name": "stdout",
     "output_type": "stream",
     "text": [
      "With            | POS: SCONJ   | Tag: IN    | Lemma: with\n",
      "lives           | POS: NOUN    | Tag: NNS   | Lemma: life\n",
      "so              | POS: ADV     | Tag: RB    | Lemma: so\n",
      "short           | POS: ADJ     | Tag: JJ    | Lemma: short\n",
      ",               | POS: PUNCT   | Tag: ,     | Lemma: ,\n",
      "why             | POS: SCONJ   | Tag: WRB   | Lemma: why\n",
      "do              | POS: AUX     | Tag: VBP   | Lemma: do\n",
      "we              | POS: PRON    | Tag: PRP   | Lemma: we\n",
      "even            | POS: ADV     | Tag: RB    | Lemma: even\n",
      "bother          | POS: VERB    | Tag: VB    | Lemma: bother\n",
      "?               | POS: PUNCT   | Tag: .     | Lemma: ?\n",
      "To              | POS: ADP     | Tag: IN    | Lemma: to\n",
      "someone         | POS: PRON    | Tag: NN    | Lemma: someone\n",
      "who             | POS: PRON    | Tag: WP    | Lemma: who\n",
      "lives           | POS: VERB    | Tag: VBZ   | Lemma: live\n",
      "for             | POS: ADP     | Tag: IN    | Lemma: for\n",
      "thousands       | POS: NOUN    | Tag: NNS   | Lemma: thousand\n",
      "of              | POS: ADP     | Tag: IN    | Lemma: of\n",
      "years           | POS: NOUN    | Tag: NNS   | Lemma: year\n",
      ",               | POS: PUNCT   | Tag: ,     | Lemma: ,\n"
     ]
    }
   ],
   "execution_count": 9
  },
  {
   "metadata": {},
   "cell_type": "markdown",
   "source": "### NER",
   "id": "25e74b3c15558cbf"
  },
  {
   "metadata": {
    "ExecuteTime": {
     "end_time": "2025-05-07T17:15:54.954339Z",
     "start_time": "2025-05-07T17:15:54.951084Z"
    }
   },
   "cell_type": "code",
   "source": [
    "for ent in doc.ents:\n",
    "    print(f\"{ent.text:30} | Label: {ent.label_}\")"
   ],
   "id": "ef80c984b851e0bd",
   "outputs": [
    {
     "name": "stdout",
     "output_type": "stream",
     "text": [
      "thousands of years             | Label: DATE\n",
      "Frieren                        | Label: ORG\n",
      "tomorrow                       | Label: DATE\n",
      "only one                       | Label: CARDINAL\n",
      "one                            | Label: CARDINAL\n",
      "the season                     | Label: DATE\n",
      "Frieren                        | Label: ORG\n",
      "Himmel                         | Label: ORG\n",
      "four                           | Label: CARDINAL\n",
      "Frieren                        | Label: ORG\n",
      "Sousou no Frieren              | Label: ORG\n"
     ]
    }
   ],
   "execution_count": 10
  },
  {
   "metadata": {
    "ExecuteTime": {
     "end_time": "2025-05-07T17:16:00.611002Z",
     "start_time": "2025-05-07T17:16:00.607083Z"
    }
   },
   "cell_type": "code",
   "source": [
    "ner_counts = Counter([ent.label_ for ent in doc.ents])\n",
    "print(\"NER counts:\\n\", ner_counts)"
   ],
   "id": "3f05c6ba875a901",
   "outputs": [
    {
     "name": "stdout",
     "output_type": "stream",
     "text": [
      "NER counts:\n",
      " Counter({'ORG': 5, 'DATE': 3, 'CARDINAL': 3})\n"
     ]
    }
   ],
   "execution_count": 11
  }
 ],
 "metadata": {
  "kernelspec": {
   "display_name": "Python 3",
   "language": "python",
   "name": "python3"
  },
  "language_info": {
   "codemirror_mode": {
    "name": "ipython",
    "version": 2
   },
   "file_extension": ".py",
   "mimetype": "text/x-python",
   "name": "python",
   "nbconvert_exporter": "python",
   "pygments_lexer": "ipython2",
   "version": "2.7.6"
  }
 },
 "nbformat": 4,
 "nbformat_minor": 5
}
