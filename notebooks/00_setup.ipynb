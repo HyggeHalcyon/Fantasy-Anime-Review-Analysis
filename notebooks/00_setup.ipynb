{
 "cells": [
  {
   "cell_type": "code",
   "id": "initial_id",
   "metadata": {
    "collapsed": true,
    "ExecuteTime": {
     "end_time": "2025-04-16T15:06:06.768670Z",
     "start_time": "2025-04-16T15:06:06.756887Z"
    }
   },
   "source": [
    "import os\n",
    "\n",
    "nltk_lib_path = \"../libs/nltk_data\"\n",
    "raw_data_path = \"../data/raw\"\n",
    "processed_data_path = \"../data/processed\"\n",
    "\n",
    "os.makedirs(nltk_lib_path, exist_ok=True)\n",
    "os.makedirs(nltk_lib_path, exist_ok=True)\n",
    "os.makedirs(nltk_lib_path, exist_ok=True)"
   ],
   "outputs": [],
   "execution_count": 1
  }
 ],
 "metadata": {
  "kernelspec": {
   "display_name": "Python 3",
   "language": "python",
   "name": "python3"
  },
  "language_info": {
   "codemirror_mode": {
    "name": "ipython",
    "version": 2
   },
   "file_extension": ".py",
   "mimetype": "text/x-python",
   "name": "python",
   "nbconvert_exporter": "python",
   "pygments_lexer": "ipython2",
   "version": "2.7.6"
  }
 },
 "nbformat": 4,
 "nbformat_minor": 5
}
